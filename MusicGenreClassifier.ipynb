{
 "cells": [
  {
   "cell_type": "markdown",
   "id": "2cfd83d3-3104-470f-9043-70fd8ed374e1",
   "metadata": {},
   "source": [
    "### Imports"
   ]
  },
  {
   "cell_type": "code",
   "execution_count": 1,
   "id": "97d3d5cc-4551-4f35-9689-48610f025e44",
   "metadata": {},
   "outputs": [],
   "source": [
    "import scipy.io.wavfile as wav\n",
    "import scipy.signal as signal\n",
    "from matplotlib import pyplot as plt\n",
    "from os import listdir\n",
    "from os.path import isfile, join\n",
    "import numpy as np"
   ]
  },
  {
   "cell_type": "code",
   "execution_count": 2,
   "id": "d813e8b1-a22e-4615-851e-3cb617f1076b",
   "metadata": {},
   "outputs": [
    {
     "name": "stderr",
     "output_type": "stream",
     "text": [
      "\n",
      "KeyboardInterrupt\n",
      "\n"
     ]
    },
    {
     "name": "stdout",
     "output_type": "stream",
     "text": [
      "Error in callback <function flush_figures at 0x000002140046BEC0> (for post_execute), with arguments args (),kwargs {}:\n"
     ]
    },
    {
     "name": "stderr",
     "output_type": "stream",
     "text": [
      "\n",
      "KeyboardInterrupt\n",
      "\n"
     ]
    }
   ],
   "source": [
    "path = \"genres_original\"\n",
    "genres = [\"blues\", \"classical\", \"country\", \"disco\", \"hiphop\", \"jazz\", \"metal\", \"pop\", \"reggae\", \"rock\"]\n",
    "save_path = \"genres_images\"\n",
    "max_per_genre = 30\n",
    "\n",
    "for genre in genres:\n",
    "    files = [f for f in listdir(path + \"/\" + genre) if isfile(join(path + \"/\" + genre, f))]\n",
    "    n=0\n",
    "    for file in files:\n",
    "        sample_rate, samples = wav.read(path + \"/\" + genre + \"/\" + file)\n",
    "        f, t, Zxx = signal.stft(samples.T[0], fs=sample_rate)\n",
    "        plt.pcolormesh(t, f, np.log(np.abs(Zxx)), cmap='viridis')\n",
    "        plt.savefig(save_path + \"/\" + genre + \"/\" + file[:-4] + '.png', bbox_inches='tight')\n",
    "        n+=1\n",
    "        if(n>=30):\n",
    "            break\n",
    "    \n",
    "    "
   ]
  },
  {
   "cell_type": "code",
   "execution_count": null,
   "id": "1bea4852-8c76-4780-a0ca-5aba82074c8c",
   "metadata": {},
   "outputs": [],
   "source": []
  },
  {
   "cell_type": "code",
   "execution_count": null,
   "id": "c84ba56b-b14e-4537-8643-80ba5cdfa63e",
   "metadata": {},
   "outputs": [],
   "source": []
  }
 ],
 "metadata": {
  "kernelspec": {
   "display_name": "Python 3 (ipykernel)",
   "language": "python",
   "name": "python3"
  },
  "language_info": {
   "codemirror_mode": {
    "name": "ipython",
    "version": 3
   },
   "file_extension": ".py",
   "mimetype": "text/x-python",
   "name": "python",
   "nbconvert_exporter": "python",
   "pygments_lexer": "ipython3",
   "version": "3.12.4"
  }
 },
 "nbformat": 4,
 "nbformat_minor": 5
}
